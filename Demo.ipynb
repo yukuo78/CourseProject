{
 "cells": [
  {
   "cell_type": "code",
   "execution_count": 1,
   "metadata": {},
   "outputs": [],
   "source": [
    "import numpy as np"
   ]
  },
  {
   "cell_type": "markdown",
   "metadata": {},
   "source": [
    "### Preprocessing"
   ]
  },
  {
   "cell_type": "code",
   "execution_count": 1,
   "metadata": {},
   "outputs": [],
   "source": [
    "import preprocess"
   ]
  },
  {
   "cell_type": "code",
   "execution_count": 2,
   "metadata": {},
   "outputs": [
    {
     "name": "stdout",
     "output_type": "stream",
     "text": [
      "***1. Load reviews from file...\n",
      "\ttotal reviews: 5212\n",
      "***2. Parse reviews into sentences...\n",
      "\ttotal processed reviews: 5212\n",
      "\ttotal scentences: 36816\n",
      "***3. Create vocabulary...\n",
      "\ttotal terms: 3656\n"
     ]
    }
   ],
   "source": [
    "preprocess.preprocess()"
   ]
  },
  {
   "cell_type": "code",
   "execution_count": 3,
   "metadata": {},
   "outputs": [],
   "source": [
    "from aspect_segmentation import Data"
   ]
  },
  {
   "cell_type": "code",
   "execution_count": 4,
   "metadata": {},
   "outputs": [],
   "source": [
    "import LRR, pickle"
   ]
  },
  {
   "cell_type": "code",
   "execution_count": 5,
   "metadata": {},
   "outputs": [],
   "source": [
    "data = pickle.load(open(\"data_dump.pickle\", \"rb\"))"
   ]
  },
  {
   "cell_type": "code",
   "execution_count": 6,
   "metadata": {},
   "outputs": [
    {
     "data": {
      "text/plain": [
       "<aspect_segmentation.Data at 0x7fb7ff402070>"
      ]
     },
     "execution_count": 6,
     "metadata": {},
     "output_type": "execute_result"
    }
   ],
   "source": [
    "data"
   ]
  },
  {
   "cell_type": "code",
   "execution_count": 7,
   "metadata": {},
   "outputs": [
    {
     "data": {
      "text/plain": [
       "array([ 1335., 12363., 14077., 12347.,  3357.,  2639.,  1027.])"
      ]
     },
     "execution_count": 7,
     "metadata": {},
     "output_type": "execute_result"
    }
   ],
   "source": [
    "data.aspect_sent"
   ]
  },
  {
   "cell_type": "code",
   "execution_count": 8,
   "metadata": {},
   "outputs": [
    {
     "data": {
      "text/plain": [
       "3656"
      ]
     },
     "execution_count": 8,
     "metadata": {},
     "output_type": "execute_result"
    }
   ],
   "source": [
    "len(data.aspect_words[0])"
   ]
  },
  {
   "cell_type": "code",
   "execution_count": 9,
   "metadata": {},
   "outputs": [
    {
     "data": {
      "text/plain": [
       "[['valu', 'price', 'qualiti', 'worth'],\n",
       " ['room', 'suit', 'view', 'bed', 'hotel'],\n",
       " ['locat', 'traffic', 'minut', 'restaur', 'hotel', 'room'],\n",
       " ['clean', 'dirti', 'maintain', 'smell', 'room', 'bathroom', 'hotel'],\n",
       " ['stuff', 'check', 'help', 'reserv', 'staff'],\n",
       " ['servic', 'food', 'breakfast', 'buffet'],\n",
       " ['busi', 'center', 'comput', 'internet']]"
      ]
     },
     "execution_count": 9,
     "metadata": {},
     "output_type": "execute_result"
    }
   ],
   "source": [
    "data.aspect_terms"
   ]
  },
  {
   "cell_type": "code",
   "execution_count": 10,
   "metadata": {},
   "outputs": [
    {
     "name": "stdout",
     "output_type": "stream",
     "text": [
      "{'bad': 0, 'servic': 1, 'price': 2, 'stay': 3, 'westin': 4, 'waterfront': 5, '5': 6, 'night': 7, 'confer': 8, 'charg': 9, 'internet': 10, 'food': 11, 'fairli': 12, 'steep': 13, 'see': 14, 'expect': 15, 'rude': 16, 'behavior': 17, 'staff': 18, 'perhap': 19, '20': 20, 'someth': 21, 'command': 22, 'type': 23, 'respect': 24, 'usual': 25, 'busi': 26, 'class': 27, 'wow': 28, 'room': 29, 'mate': 30, 'arriv': 31, 'boston': 32, 'yet': 33, 'allow': 34, 'add': 35, 'name': 36, 'check': 37, 'could': 38, 'access': 39, 'serious': 40, 'given': 41, 'singl': 42, 'king': 43, 'bed': 44, 'told': 45, 'reserv': 46, '2': 47, '1': 48, 'respons': 49, 'pull': 50, 'print': 51, 'comput': 52, 'handicap': 53, 'two': 54, 'fine': 55, 'also': 56, 'guest': 57, 'suit': 58, 'near': 59, 'convent': 60, 'center': 61, 'would': 62, 'highli': 63, 'recommend': 64, 'larger': 65, 'nicer': 66, 'great': 67, 'much': 68, 'cheaper': 69, 'exampl': 70, 'omelet': 71, '16': 72, 'tea': 73, '6': 74, 'day': 75, '12': 76, 'oh': 77, 'yeah': 78, 'never': 79, 'hot': 80, 'water': 81, 'shower': 82, '7': 83, '8': 84, 'comfort': 85, 'wife': 86, 'red': 87, 'game': 88, 'nice': 89, 'everyth': 90, 'hotel': 91, 'excel': 92, 'qualiti': 93, 'bathroom': 94, 'spaciou': 95, 'view': 96, 'one': 97, 'you鈥檒l': 98, 'prompt': 99, 'ticket': 100, 'offer': 101, 'friend': 102, 'museum': 103, 'thrown': 104, 'mix': 105, 'decid': 106, 'overnight': 107, 'town': 108, 'make': 109, 'adventur': 110, 'easier': 111, 'honest': 112, 'first': 113, 'pick': 114, 'second': 115, 'third': 116, 'even': 117, 'top': 118, '10': 119, 'week': 120, 'left': 121, 'date': 122, 'quickli': 123, 'becam': 124, 'choic': 125, 'surpris': 126, 'avail': 127, 'lack': 128, 'i鈥檓': 129, 'sure': 130, 'weekend': 131, 'tri': 132, 'everywher': 133, 'onlin': 134, 'via': 135, 'telephon': 136, 'book': 137, 'say': 138, 'awar': 139, 'experi': 140, 'may': 141, 'chang': 142, 'overal': 143, 'read': 144, 'review': 145, 'bit': 146, 'apprehens': 147, 'place': 148, 'becom': 149, 'low': 150, 'key': 151, 'fuss': 152, 'famili': 153, 'four': 154, 'easi': 155, 'find': 156, 'drive': 157, '4': 158, 'level': 159, 'underground': 160, 'park': 161, 'use': 162, 'valet': 163, 'directli': 164, 'garag': 165, 'self': 166, 'within': 167, 'step': 168, 'elev': 169, 'lobbi': 170, 'tight': 171, 'fit': 172, 'full': 173, 'size': 174, 'truck': 175, 'problem': 176, 'coupl': 177, 'space': 178, 'late': 179, 'saturday': 180, 'approxim': 181, 'count': 182, '15': 183, 'fee': 184, 'lot': 185, 'nearbi': 186, 'possibl': 187, 'street': 188, 'fear': 189, 'cost': 190, '30': 191, 'abl': 192, 'remain': 193, '6pm': 194, 'checkout': 195, 'advis': 196, 'keep': 197, 'swipe': 198, 'deposit': 199, 'way': 200, 'gate': 201, 'came': 202, 'handi': 203, 'end': 204, 'sometim': 205, 'afternoon': 206, 'btw': 207, 'cab': 208, 'process': 209, 'done': 210, 'reason': 211, 'time': 212, 'good': 213, 'line': 214, 'took': 215, 'minut': 216, 'howev': 217, 'plenti': 218, 'seat': 219, 'tast': 220, 'decor': 221, 'bar': 222, 'need': 223, 'albeit': 224, 'expens': 225, 'starbuck': 226, 'home': 227, 'convers': 228, 'seen': 229, 'appli': 230, 'hidden': 231, 'otherwis': 232, 'requir': 233, 'addit': 234, 'call': 235, 'doubl': 236, '14th': 237, 'floor': 238, 'face': 239, 'cruis': 240, 'termin': 241, 'logan': 242, 'runway': 243, 'look': 244, 'wish': 245, 'sit': 246, 'catch': 247, 'queen': 248, 'well': 249, 'furnish': 250, 'contemporari': 251, 'style': 252, 'carpet': 253, 'window': 254, 'treatment': 255, 'flat': 256, 'screen': 257, 'televis': 258, 'made': 259, 'seem': 260, 'bigger': 261, 'stylish': 262, 'channel': 263, 'kept': 264, 'us': 265, 'entertain': 266, 'inform': 267, 'ac': 268, 'work': 269, 'although': 270, 'loud': 271, 'air': 272, 'vent': 273, 'like': 274, 'larg': 275, 'fan': 276, 'cancel': 277, 'hallway': 278, 'nois': 279, 'tend': 280, 'cover': 281, 'door': 282, 'close': 283, 'slam': 284, 'mention': 285, 'wise': 286, 'far': 287, 'consid': 288, 'dead': 289, 'quiet': 290, 'light': 291, 'fixtur': 292, 'head': 293, 'previou': 294, 'bath': 295, 'provid': 296, 'natur': 297, 'skeptic': 298, 'odor': 299, 'steam': 300, 'take': 301, 'longer': 302, 'bathrob': 303, 'iron': 304, 'broken': 305, 'heat': 306, 'rave': 307, 'pool': 308, 'tub': 309, 'separ': 310, 'enter': 311, 'area': 312, 'towel': 313, 'kid': 314, 'friendli': 315, 'parent': 316, 'supervis': 317, '24hr': 318, 'eat': 319, 'restaur': 320, 'decis': 321, 'energi': 322, 'appear': 323, 'valu': 324, 'base': 325, 'walk': 326, '10min': 327, 'serv': 328, 'portion': 329, 'worth': 330, 'foot': 331, 'traffic': 332, 'everyon': 333, 'felt': 334, 'gener': 335, 'safe': 336, 'next': 337, 'morn': 338, 'opt': 339, 'quick': 340, 'bite': 341, 'instead': 342, 'breakfast': 343, 'without': 344, 'fault': 345, 'airport': 346, 'market': 347, 'got': 348, 'save': 349, 'saw': 350, 'compar': 351, 'it鈥檚': 352, 'less': 353, 'balanc': 354, 'quit': 355, 'clean': 356, 'still': 357, 'new': 358, 'common': 359, 'thought': 360, 'ever': 361, 'hesit': 362, 'futur': 363, 'copley': 364, 'husband': 365, 'octob': 366, '2008': 367, 'attend': 368, 'disappoint': 369, 'locat': 370, 'pretti': 371, 'fluffi': 372, 'chair': 373, 'better': 374, 'warn': 375, 'proceed': 376, 'point': 377, 'mark': 378, 'cushion': 379, 'disgust': 380, 'flip': 381, 'discov': 382, 'dark': 383, 'stain': 384, 'needless': 385, 'spent': 386, 'minim': 387, 'wait': 388, 'follow': 389, 'alert': 390, 'concern': 391, 'apologet': 392, 'cleanli': 393, 'mayb': 394, 'pay': 395, 'rais': 396, 'hell': 397, 'upon': 398, 'stop': 399, 'probabl': 400, 'toast': 401, 'bagel': 402, 'plastic': 403, 'cream': 404, 'chees': 405, 'beauti': 406, 'appoint': 407, 'right': 408, 'newli': 409, 'restor': 410, 'wharf': 411, 'brand': 412, 'station': 413, 'across': 414, 'indoor': 415, 'properti': 416, 'heavenli': 417, 'profession': 418, 'deli': 419, 'lunch': 420, 'distanc': 421, 'attract': 422, 'love': 423, 'dinner': 424, 'petit': 425, 'bistro': 426, 'squar': 427, 'last': 428, 'spg': 429, 'member': 430, 'rate': 431, 'starwood': 432, 'found': 433, 'delux': 434, '160': 435, 'highway': 436, 'silver': 437, 'south': 438, 'hop': 439, 'st': 440, 'green': 441, 'exactli': 442, 'rocket': 443, 'half': 444, 'hour': 445, 'pleasant': 446, 'relax': 447, 'enjoy': 448, 'white': 449, 'scent': 450, 'pipe': 451, 'ask': 452, 'whether': 453, 'prefer': 454, 'higher': 455, 'lower': 456, 'though': 457, 'express': 458, 'high': 459, '8th': 460, 'modern': 461, 'citi': 462, 'vibe': 463, 'drink': 464, 'crazi': 465, 'fun': 466, 'know': 467, 'back': 468, 'bay': 469, 'littl': 470, 'happen': 471, 'guess': 472, 'appar': 473, 'local': 474, 'oppos': 475, 'etc': 476, 'deal': 477, 'noth': 478, 'prevent': 479, 'option': 480, 'averag': 481, 'overpr': 482, 'famou': 483, 'downtown': 484, 'term': 485, 'includ': 486, 'build': 487, 'subway': 488, 'twice': 489, 'conveni': 490, 'smart': 491, 'adjac': 492, 'centr': 493, 'railway': 494, 'ad': 495, 'advantag': 496, 'sent': 497, 'want': 498, 'noisi': 499, 'wed': 500, 'cater': 501, 'crowd': 502, 'certainli': 503, 'feel': 504, 'chic': 505, 'urban': 506, 'truli': 507, 'open': 508, 'airi': 509, 'effici': 510, 'complaint': 511, 'complet': 512, 'soundproof': 513, 'clearli': 514, 'hear': 515, 'normal': 516, 'think': 517, 'pleas': 518, 'start': 519, 'plan': 520, 'fall': 521, 'trip': 522, 'england': 523, 'worri': 524, 'proxim': 525, 'travel': 526, 'main': 527, 'island': 528, 'perfect': 529, 'jump': 530, 'onto': 531, 'avoid': 532, 'big': 533, 'confus': 534, 'control': 535, 'bother': 536, 'direct': 537, 'went': 538, 'tip': 539, 'stadium': 540, '40': 541, 'that鈥檚': 542, 'cake': 543, 'factori': 544, 'best': 545, 'outsid': 546, 'groceri': 547, 'shop': 548, 'super': 549, 'target': 550, 'old': 551, 'navi': 552, 'five': 553, 'guy': 554, 'burger': 555, 'fri': 556, 'overlook': 557, 'wonder': 558, 'bless': 559, 'sparkl': 560, 'job': 561, 'housekeep': 562, 'poor': 563, 'rack': 564, '2nd': 565, 'stuff': 566, 'either': 567, 'vomit': 568, 'blood': 569, 'nasti': 570, 'said': 571, 'refresh': 572, 'anyway': 573, 'basebal': 574, 'courtesi': 575, 'sign': 576, 'bill': 577, 'unbeliev': 578, '50': 579, 'per': 580, 'page': 581, 'run': 582, 'compani': 583, 'post': 584, 'final': 585, 'disput': 586, 'refund': 587, '鈥': 588, 'later': 589, 'spoke': 590, 'manag': 591, 'tick': 592, 'amen': 593, 'gold': 594, 'dozen': 595, 'year': 596, 'nickel': 597, 'dime': 598, 'bottom': 599, 'car': 600, 'prepar': 601, 'everi': 602, 'thing': 603, 'facil': 604, 'p': 605, '500': 606, 'ridicul': 607, 'get': 608, 'public': 609, 'gym': 610, 'equip': 611, 'spotless': 612, '10th': 613, 'harbor': 614, 'minor': 615, 'regard': 616, 'par': 617, 'realli': 618, 'holiday': 619, 'inn': 620, 'month': 621, 'mind': 622, 'necessari': 623, 'reach': 624, 'pricey': 625, 'taxi': 626, 'pleasur': 627, 'suggest': 628, 'fantast': 629, 'around': 630, 'architectur': 631, 'dine': 632, 'marriot': 633, 'favorit': 634, 'test': 635, 'announc': 636, 'session': 637, 'unpleas': 638, 'shuttl': 639, 'hall': 640, 'note': 641, 'suv': 642, 'accommod': 643, 'peopl': 644, 'earli': 645, 'almost': 646, '100': 647, 'dollar': 648, 'harbour': 649, 'recent': 650, 'ye': 651, 'definit': 652, 'mislead': 653, 'differ': 654, 'block': 655, 'hire': 656, 'glad': 657, 'limit': 658, 'tour': 659, 'oper': 660, 'readili': 661, 'recept': 662, 'concierg': 663, 'desk': 664, 'courteou': 665, 'suffici': 666, 'except': 667, 'beij': 668, 'financi': 669, 'district': 670, 'spring': 671, 'absolut': 672, 'incred': 673, 'mediocr': 674, 'typic': 675, 'skip': 676, 'help': 677, 'bewar': 678, 'describ': 679, 'mile': 680, 'shoe': 681, 'prici': 682, 'ride': 683, 'fail': 684, 'saucieti': 685, 'play': 686, 'word': 687, 'combin': 688, 'sauc': 689, 'hard': 690, 'tire': 691, 'weird': 692, 'crap': 693, 'plate': 694, 'order': 695, 'menu': 696, 'buffet': 697, '25': 698, 'egg': 699, 'cook': 700, 'recogn': 701, 'put': 702, 'forgot': 703, 'eaten': 704, 'luck': 705, 'soup': 706, 'onion': 707, 'sugar': 708, 'ice': 709, 'cold': 710, 'aw': 711, 'cup': 712, '60': 713, 'atmospher': 714, 'front': 715, 'go': 716, 'chef': 717, '3': 718, 'whilst': 719, 'honeymoon': 720, 'wasnt': 721, 'join': 722, 'togeth': 723, 'seper': 724, 'bedroom': 725, 'turn': 726, 'actual': 727, 'ate': 728, 'didnt': 729, 'fanci': 730, 'cocktail': 731, 'french': 732, '75': 733, 'weather': 734, 'min': 735, 'touristi': 736, 'mostli': 737, 'gear': 738, 'toward': 739, 'tourist': 740, 'action': 741, 'isnt': 742, 'total': 743, 'short': 744, 'forget': 745, 'cri': 746, 'babi': 747, 'unless': 748, 'troubl': 749, 'ahead': 750, 'spend': 751, 'pass': 752, 'plu': 753, 'factor': 754, 'care': 755, '300': 756, 'fool': 757, 'map': 758, 'zero': 759, 'issu': 760, 'steril': 761, 'somewhat': 762, 'cool': 763, 'mani': 764, 'excit': 765, 'rang': 766, 'someon': 767, 'money': 768, 'extrem': 769, 'upscal': 770, 'budget': 771, 'unhappi': 772, 'number': 773, 'extra': 774, 'worst': 775, '31': 776, 'cheapest': 777, 'anoth': 778, 'connect': 779, 'wi': 780, 'fi': 781, 'ago': 782, 'free': 783, 'advertis': 784, 'websit': 785, 'custom': 786, 'huge': 787, 'movi': 788, '9': 789, 'buck': 790, 'don鈥檛': 791, 'particularli': 792, 'person': 793, 'give': 794, 'certain': 795, 'come': 796, 'list': 797, 'often': 798, 'transfer': 799, 'phone': 800, 'figur': 801, 'talk': 802, 'answer': 803, 'question': 804, 'woman': 805, 'plain': 806, 'bag': 807, 'baggag': 808, 'cart': 809, 'long': 810, 'difficult': 811, 'part': 812, 'navig': 813, 'origin': 814, 'north': 815, 'lost': 816, 'sever': 817, 'least': 818, 'enough': 819, 'aquarium': 820, 'especi': 821, 'children': 822, 'away': 823, 'poorli': 824, 'design': 825, 'coffe': 826, 'martini': 827, 'exit': 828, 'vehicl': 829, 'awesom': 830, 'cheap': 831, 'construct': 832, 'pamper': 833, 'vacat': 834, 'leisur': 835, 'sister': 836, 'august': 837, 'kind': 838, 'bore': 839, 'warm': 840, 'invit': 841, 'restraunt': 842, 'stark': 843, 'formal': 844, 'basic': 845, 'leav': 846, 'convien': 847, 'overr': 848, 'fact': 849, '80': 850, 'ramada': 851, 'hang': 852, 'refriger': 853, 'paid': 854, 'request': 855, 'demand': 856, 'clerk': 857, 'rental': 858, 'agenc': 859, 'alreadi': 860, '800': 861, 'eateri': 862, 'employe': 863, 'met': 864, 'doorman': 865, 'delight': 866, 'encount': 867, 'els': 868, 'assist': 869, 'biggest': 870, 'neg': 871, 'goe': 872, 'anywher': 873, 'anyth': 874, 'anyon': 875, 'marbl': 876, 'alway': 877, 'accur': 878, 'registr': 879, 'fare': 880, 'tasti': 881, 'mini': 882, 'sightse': 883, 'wall': 884, 'thin': 885, 'sleeper': 886, 'ear': 887, 'plug': 888, 'neighbor': 889, 'adequ': 890, 'mere': 891, 'other': 892, 'ceil': 893, 'standard': 894, 'charm': 895, 'choos': 896, 'central': 897, 'inexpens': 898, 'okay': 899, 'ugli': 900, 'metro': 901, 'trolley': 902, 'group': 903, 'bartend': 904, 'kitchen': 905, 'true': 906, 'paper': 907, 'inconsist': 908, 'accept': 909, 'train': 910, 'brunch': 911, 'sunday': 912, 'aug': 913, 'horrif': 914, 'waitress': 915, 'meet': 916, 'orang': 917, 'juic': 918, 'return': 919, 'tabl': 920, 'remov': 921, 'empti': 922, 'dish': 923, 'finish': 924, 'attent': 925, 'behind': 926, 'opposit': 927, 'situat': 928, 'detail': 929, 'believ': 930, 'experienc': 931, 'grow': 932, 'pain': 933, 'horribl': 934, '400': 935, 'summer': 936, 'small': 937, 'hate': 938, 'ran': 939, 'prior': 940, 'lastli': 941, 'insist': 942, 'purchas': 943, 'hardli': 944, 'greatli': 945, 'offend': 946, 'tag': 947, 'along': 948, 'transport': 949, 'research': 950, 'c': 951, 'hike': 952, 'fair': 953, 'amount': 954, 'chain': 955, 'everytim': 956, 'past': 957, 'bu': 958, 'transit': 959, 'system': 960, 'real': 961, 'switch': 962, 'closer': 963, 'outskirt': 964, 'chose': 965, 'luxuri': 966, 'intern': 967, 'vs': 968, 'stroll': 969, 'folk': 970, 'fyi': 971, 'world': 972, 'tall': 973, 'birch': 974, 'tree': 975, '11am': 976, 'readi': 977, 'sinc': 978, 'lug': 979, 'smooth': 980, 'minibar': 981, 'declin': 982, 'fortun': 983, '11th': 984, 'partial': 985, 'bright': 986, 'linen': 987, 'furnitur': 988, 'wood': 989, 'wide': 990, 'flatscreen': 991, 'tv': 992, 'toiletri': 993, 'soap': 994, 'shampoo': 995, 'mistak': 996, 'deliveri': 997, 'deliv': 998, 'fill': 999, 'cotton': 1000, 'ball': 1001, 'brush': 1002, 'nail': 1003, 'polish': 1004, 'item': 1005, 'specif': 1006, 'robe': 1007, 'slipper': 1008, 'impact': 1009, '18': 1010, 'sale': 1011, 'tax': 1012, 'outrag': 1013, 'treat': 1014, 'rent': 1015, 'beer': 1016, 'trade': 1017, 'sam': 1018, 'breweri': 1019, 'smaller': 1020, 'walkabl': 1021, 'alot': 1022, 'let': 1023, 'particular': 1024, 'pressur': 1025, 'gorgeou': 1026, 'approach': 1027, 'easili': 1028, 'ok': 1029, 'lit': 1030, 'live': 1031, 'activ': 1032, 'welcom': 1033, 'swim': 1034, 'renov': 1035, 'decent': 1036, 'appeal': 1037, 'retail': 1038, 'outlet': 1039, 'attitud': 1040, 'notic': 1041, 'server': 1042, 'worker': 1043, 'buss': 1044, 'sat': 1045, 'period': 1046, 'diner': 1047, 'patient': 1048, 'staf': 1049, 'hostess': 1050, 'stand': 1051, 'pack': 1052, 'eager': 1053, 'continu': 1054, 'whole': 1055, 'frustrat': 1056, '45': 1057, 'parti': 1058, 'magazin': 1059, 'buzz': 1060, 'break': 1061, 'burn': 1062, 'sight': 1063, 'scene': 1064, 'increas': 1065, '35': 1066, 'track': 1067, 'flight': 1068, 'due': 1069, 'panic': 1070, 'gotten': 1071, 'pride': 1072, 'recal': 1073, 'orient': 1074, 'shame': 1075, 'v': 1076, 'costli': 1077, '23': 1078, '00': 1079, 'bring': 1080, 'femal': 1081, 'driver': 1082, 'drop': 1083, 'mainten': 1084, 'immedi': 1085, 'fast': 1086, 'despit': 1087, 'regist': 1088, 'mass': 1089, 'must': 1090, 'realiz': 1091, 'heard': 1092, 'son': 1093, 'soft': 1094, 'ventur': 1095, 'italian': 1096, 'pizza': 1097, 'ten': 1098, 'monday': 1099, 'wifi': 1100, 'email': 1101, 'alon': 1102, 'mirror': 1103, 'overhead': 1104, 'smell': 1105, 'comfi': 1106, 'calm': 1107, 'daili': 1108, 'individu': 1109, 'greet': 1110, 'thank': 1111, 'entir': 1112, 'gift': 1113, 'hope': 1114, 'meal': 1115, 'splash': 1116, 'reciev': 1117, 'news': 1118, 'sport': 1119, 'background': 1120, 'music': 1121, 'bedsid': 1122, 'radio': 1123, 'complementari': 1124, 'suppos': 1125, 'voic': 1126, 'insid': 1127, 'spa': 1128, 'massag': 1129, '135': 1130, 'earplug': 1131, 'terribl': 1132, 'restuar': 1133, 'admittedli': 1134, 'benefit': 1135, 'steakhous': 1136, 'legal': 1137, 'seafood': 1138, 'woke': 1139, 'insul': 1140, 'pro': 1141, 'show': 1142, 'waiter': 1143, 'ton': 1144, 'counter': 1145, 'unavail': 1146, 'peak': 1147, 'disturb': 1148, '95': 1149, 'inconveni': 1150, 'visit': 1151, 'agre': 1152, 'comment': 1153, 'brochur': 1154, 'child': 1155, 'none': 1156, 'current': 1157, 'drove': 1158, 'complimentari': 1159, 'dessert': 1160, 'bottl': 1161, 'rather': 1162, 'shot': 1163, 'espresso': 1164, 'pot': 1165, 'milk': 1166, 'sort': 1167, 'simpl': 1168, 'complain': 1169, 'firstli': 1170, 'pretenti': 1171, 'ish': 1172, 'hotwir': 1173, '200': 1174, 'wireless': 1175, '14': 1176, '24': 1177, 'woken': 1178, 'june': 1179, '08': 1180, 'ambianc': 1181, 'trek': 1182, 'rel': 1183, 'develop': 1184, 'nyc': 1185, 'nearest': 1186, 'classi': 1187, 'state': 1188, 'art': 1189, 'climat': 1190, 'panel': 1191, 'hd': 1192, 'round': 1193, 'virtual': 1194, 'receiv': 1195, 'compet': 1196, 'admit': 1197, 'nervou': 1198, 'prob': 1199, '4th': 1200, 'will': 1201, 'fli': 1202, 'fold': 1203, 'updat': 1204, 'lcd': 1205, 'hundr': 1206, 'donut': 1207, 'throughout': 1208, 'rob': 1209, 'blind': 1210, 'closest': 1211, 'smack': 1212, 'middl': 1213, 'thoroughli': 1214, 'special': 1215, 'border': 1216, 'discuss': 1217, 'handl': 1218, 'luggag': 1219, 'event': 1220, 'combo': 1221, 'somewher': 1222, 'featur': 1223, 'bland': 1224, 'sound': 1225, 'proof': 1226, 'boat': 1227, 'bark': 1228, 'crab': 1229, 'pier': 1230, 'might': 1231, 'renaiss': 1232, 'tourism': 1233, 'pricelin': 1234, 'regular': 1235, 'smoothli': 1236, 'accomod': 1237, 'guarante': 1238, 'dresser': 1239, 'pillow': 1240, 'anymor': 1241, 'cours': 1242, 'knew': 1243, 'proper': 1244, 'minimum': 1245, 'depend': 1246, 'six': 1247, 'star': 1248, 'spoil': 1249, 'glitch': 1250, 'properli': 1251, 'stuck': 1252, 'upstair': 1253, 'card': 1254, 'toilet': 1255, 'luckili': 1256, 'fix': 1257, 'idea': 1258, 'honor': 1259, 'rectifi': 1260, 'begin': 1261, 'sum': 1262, 'isol': 1263, 'happi': 1264, 'gave': 1265, 'health': 1266, 'club': 1267, 'competit': 1268, '13th': 1269, 'skylin': 1270, 'path': 1271, 'charli': 1272, 'unlimit': 1273, 'network': 1274, 'buse': 1275, 'rest': 1276, 'smile': 1277, 'edg': 1278, 'crash': 1279, 'shout': 1280, 'scream': 1281, 'visitor': 1282, 'explor': 1283, 'histor': 1284, 'fabul': 1285, 'b': 1286, 'sens': 1287, 'understand': 1288, 'scratch': 1289, 'plasma': 1290, 'con': 1291, 'stock': 1292, 'loung': 1293, 'mad': 1294, 'spectacular': 1295, 'awkward': 1296, 'superb': 1297, 'liter': 1298, 'entranc': 1299, 'summari': 1300, 'ideal': 1301, 'exact': 1302, 'walkway': 1303, 'frequent': 1304, 'painless': 1305, 'power': 1306, 'set': 1307, 'machin': 1308, 'touch': 1309, 'wasn鈥檛': 1310, 'replac': 1311, 'rubber': 1312, 'lie': 1313, 'ground': 1314, 'hr': 1315, 'salad': 1316, 'rememb': 1317, 'correctli': 1318, 'barman': 1319, 'chill': 1320, '26': 1321, 'didn鈥檛': 1322, 'commut': 1323, 'rail': 1324, 'winter': 1325, 'straight': 1326, 'locker': 1327, 'stack': 1328, 'ordinari': 1329, 'platinum': 1330, 'entitl': 1331, 'checkin': 1332, 'adjoin': 1333, 'lock': 1334, 'unlock': 1335, 'ring': 1336, 'eventu': 1337, 'unlik': 1338, 'photo': 1339, 'imperson': 1340, 'amaz': 1341, 'affair': 1342, 'odd': 1343, 'annoy': 1344, 'inch': 1345, 'gap': 1346, 'tin': 1347, 'case': 1348, 'whatev': 1349, 'newspap': 1350, 'de': 1351, 'privileg': 1352, 'unfortun': 1353, 'buy': 1354, 'hous': 1355, 'cash': 1356, 'pour': 1357, 'coff': 1358, 'man': 1359, '65': 1360, 'mom': 1361, 'slip': 1362, 'newer': 1363, 'mat': 1364, 'hit': 1365, 'tile': 1366, 'cut': 1367, 'nobodi': 1368, 'emerg': 1369, 'secur': 1370, 'dress': 1371, 'guard': 1372, 'god': 1373, 'life': 1374, 'threaten': 1375, 'contact': 1376, 'obvious': 1377, 'uniqu': 1378, 'imagin': 1379, 'pet': 1380, 'peev': 1381, 'slow': 1382, 'speed': 1383, 'side': 1384, 'simpli': 1385, 'depart': 1386, 'couldn鈥檛': 1387, 'dirti': 1388, 'desir': 1389, 'scam': 1390, 'correct': 1391, 'soda': 1392, '130': 1393, 'explain': 1394, '70': 1395, 'product': 1396, 'knock': 1397, 'account': 1398, 'file': 1399, 'theft': 1400, 'blue': 1401, 'write': 1402, 'posit': 1403, 'shape': 1404, 'sweet': 1405, 'endless': 1406, 'lead': 1407, 'satisfact': 1408, 'eye': 1409, 'noon': 1410, 'polit': 1411, 'moder': 1412, 'hair': 1413, 'bathtub': 1414, 'hanger': 1415, 'wine': 1416, 'remind': 1417, '30am': 1418, '00pm': 1419, 'strand': 1420, 'refil': 1421, 'wrong': 1422, 'speak': 1423, 'discount': 1424, 'obviou': 1425, 'physic': 1426, 'improv': 1427, 'miss': 1428, 'cap': 1429, 'besid': 1430, 'com': 1431, 'secret': 1432, 'unsur': 1433, 'caus': 1434, 'link': 1435, 'road': 1436, 'previous': 1437, 'sleep': 1438, 'suppli': 1439, 'delay': 1440, '5pm': 1441, 'villag': 1442, 'worn': 1443, 'eve': 1444, 'boyfriend': 1445, '5th': 1446, 'thick': 1447, 'bacon': 1448, 'bunch': 1449, 'confort': 1450, 'site': 1451, 'fairmont': 1452, 'novemb': 1453, '2007': 1454, 'exercis': 1455, 'constantli': 1456, 'cell': 1457, 'bellman': 1458, 'atrium': 1459, 'wooden': 1460, 'materi': 1461, 'maker': 1462, 'appreci': 1463, '17': 1464, 'delici': 1465, 'recommand': 1466, 'anybodi': 1467, 'three': 1468, '4am': 1469, '5am': 1470, 'fire': 1471, 'alarm': 1472, 'flash': 1473, 'record': 1474, 'effect': 1475, 'gone': 1476, 'apolog': 1477, 'acknowledg': 1478, 'can鈥檛': 1479, 'vacuum': 1480, 'remot': 1481, 'interest': 1482, 'cordial': 1483, 'br': 1484, 'wast': 1485, 'industri': 1486, '11': 1487, 'birthday': 1488, 'cough': 1489, 'rock': 1490, 'tell': 1491, 'bought': 1492, 'breez': 1493, 'yard': 1494, 'trail': 1495, 'pastri': 1496, 'blast': 1497, 'father': 1498, 'anticip': 1499, 'corpor': 1500, 'agent': 1501, 'client': 1502, '3rd': 1503, 'fax': 1504, 'letter': 1505, 'copi': 1506, 'hyatt': 1507, 'send': 1508, 'beaten': 1509, 'colleg': 1510, 'stretch': 1511, 'realist': 1512, 'immacul': 1513, 'drawback': 1514, 'glass': 1515, '99': 1516, 'toss': 1517, 'quarter': 1518, 'toler': 1519, 'januari': 1520, 'challeng': 1521, 'encourag': 1522, 'useless': 1523, 'attach': 1524, 'scale': 1525, 'select': 1526, 'maid': 1527, 'stole': 1528, 'wallet': 1529, 'consider': 1530, 'downstair': 1531, 'report': 1532, 'worthi': 1533, 'incid': 1534, 'organ': 1535, 'mean': 1536, 'bank': 1537, 'statement': 1538, 'host': 1539, 'turnaround': 1540, 'memori': 1541, 'initi': 1542, 'taken': 1543, 'heart': 1544, 'dissapoint': 1545, 'atm': 1546, 'membership': 1547, 'statu': 1548, 'tremend': 1549, 'fruit': 1550, 'defin': 1551, 'hubbi': 1552, 'trap': 1553, 'minu': 1554, 'cultur': 1555, 'indiffer': 1556, 'exist': 1557, 'refus': 1558, 'rollaway': 1559, 'quot': 1560, 'regul': 1561, 'teenag': 1562, 'document': 1563, '39': 1564, 'rip': 1565, 'adult': 1566, 'throw': 1567, 'beach': 1568, 'sold': 1569, 'opinion': 1570, 'sick': 1571, 'somehow': 1572, 'chicken': 1573, 'land': 1574, 'jewelri': 1575, 'prais': 1576, 'forev': 1577, 'grate': 1578, 'jackson': 1579, 'juli': 1580, '7th': 1581, 'pm': 1582, 'credit': 1583, 'neat': 1584, 'booth': 1585, 'trolli': 1586, '32': 1587, 'potato': 1588, 'store': 1589, 'strongli': 1590, 'afford': 1591, 'chanc': 1592, 'china': 1593, 'pound': 1594, '55': 1595, 'sole': 1596, 'friday': 1597, 'sleek': 1598, 'temp': 1599, 'till': 1600, 'defint': 1601, 'danish': 1602, 'mattress': 1603, 'stun': 1604, 'tini': 1605, 'breathtak': 1606, 'grill': 1607, 'spot': 1608, 'sell': 1609, 'altern': 1610, 'superior': 1611, 'unusu': 1612, 'closet': 1613, 'regularli': 1614, 'bellmen': 1615, 'prioriti': 1616, 'aspect': 1617, 'program': 1618, 'wire': 1619, 'slept': 1620, '22': 1621, 'steak': 1622, 'multipl': 1623, 'dip': 1624, 'built': 1625, 'major': 1626, 'anniversari': 1627, 'trash': 1628, 'drab': 1629, 'strang': 1630, 'shirt': 1631, 'drawer': 1632, 'sorri': 1633, 'volum': 1634, 'mess': 1635, 'adjust': 1636, '18th': 1637, 'assum': 1638, 'someplac': 1639, 'hurri': 1640, 'coat': 1641, 'retriev': 1642, 'mail': 1643, 'doormen': 1644, 'consist': 1645, 'versu': 1646, 'nine': 1647, 'couch': 1648, 'outstand': 1649, 'similar': 1650, 'metropolitan': 1651, 'seattl': 1652, 'personel': 1653, 'relat': 1654, 'uninterest': 1655, 'satisfi': 1656, 'corner': 1657, 'midnight': 1658, 'asid': 1659, 'reccomend': 1660, 'gm': 1661, 'april': 1662, 'wind': 1663, 'daughter': 1664, 'w': 1665, 'ambienc': 1666, 'snack': 1667, 'rough': 1668, 'neighborhood': 1669, 'premis': 1670, 'temperatur': 1671, 'occas': 1672, 'ketchup': 1673, 'comparison': 1674, 'wherev': 1675, 'bid': 1676, 'bargain': 1677, 'tow': 1678, 'resid': 1679, 'corridor': 1680, 'e': 1681, 'g': 1682, 'oz': 1683, 'supermarket': 1684, 'boil': 1685, 'bowl': 1686, 'roll': 1687, 'hold': 1688, 'concret': 1689, 'enorm': 1690, 'foyer': 1691, 'weari': 1692, 'lift': 1693, 'ensuit': 1694, 'receptionist': 1695, 'human': 1696, 'voucher': 1697, 'varieti': 1698, 'luke': 1699, 'whistl': 1700, 'quay': 1701, 'cheesecak': 1702, 'journey': 1703, 'tripadvisor': 1704, 'n': 1705, 'attende': 1706, 'eight': 1707, 'overli': 1708, 'perfectli': 1709, 'reader': 1710, 'bridg': 1711, 'mainli': 1712, 'casual': 1713, 'jean': 1714, 'swing': 1715, 'la': 1716, 'dri': 1717, 'piec': 1718, 'sandwich': 1719, 'margin': 1720, 'categori': 1721, 'depress': 1722, 'forth': 1723, 'degre': 1724, 'bb': 1725, 'basi': 1726, 'impress': 1727, 'unclean': 1728, 'lucki': 1729, 'thu': 1730, 'lose': 1731, 'shut': 1732, 'marathon': 1733, 'pictur': 1734, 'granit': 1735, 'countertop': 1736, 'sushi': 1737, 'celebr': 1738, 'pleasantli': 1739, 'spite': 1740, 'roomi': 1741, 'ultra': 1742, 'stone': 1743, 'identifi': 1744, 'picki': 1745, 'watch': 1746, 'flush': 1747, 'shui': 1748, 'danger': 1749, 'prove': 1750, 'saver': 1751, '21': 1752, 'supposedli': 1753, 'explan': 1754, 'rush': 1755, 'accent': 1756, 'fianc': 1757, 'learn': 1758, 'lesson': 1759, 'board': 1760, 'plane': 1761, 'texa': 1762, 'march': 1763, '26th': 1764, 'hung': 1765, 'brought': 1766, 'promis': 1767, 'mar': 1768, 'disapoint': 1769, 'die': 1770, 'instanc': 1771, 'sheraton': 1772, 'climb': 1773, 'sea': 1774, 'paul': 1775, 'h': 1776, 'duti': 1777, 'edibl': 1778, 'yogurt': 1779, 'parfait': 1780, 'granola': 1781, 'float': 1782, 'gel': 1783, 'girl': 1784, 'carri': 1785, 'bodi': 1786, 'wash': 1787, 'elderli': 1788, 'medic': 1789, 'rare': 1790, 'trust': 1791, 'smoke': 1792, 'detector': 1793, 'primarili': 1794, 'solid': 1795, 'neither': 1796, '13': 1797, 'bare': 1798, 'omelett': 1799, 'badli': 1800, 'non': 1801, 'present': 1802, 'environ': 1803, 'restur': 1804, 'yummi': 1805, 'notch': 1806, 'approx': 1807, 'age': 1808, 'men': 1809, 'repres': 1810, 'grab': 1811, 'goodi': 1812, 'cute': 1813, 'score': 1814, 'warmth': 1815, 'manner': 1816, 'workout': 1817, 'replenish': 1818, 'repeatedli': 1819, 'blame': 1820, 'sheet': 1821, 'notifi': 1822, 'departur': 1823, 'excus': 1824, 'advic': 1825, 'annual': 1826, 'forward': 1827, 'extens': 1828, 'occur': 1829, 'thumb': 1830, 'own': 1831, 'automat': 1832, 'upgrad': 1833, 'commun': 1834, 'shortli': 1835, 'inquir': 1836, 'satisfactori': 1837, 'entre': 1838, 'medium': 1839, 'happier': 1840, 'school': 1841, 'presenc': 1842, 'shrimp': 1843, 'crisp': 1844, 'freshli': 1845, 'pancak': 1846, 'assur': 1847, 'boy': 1848, 'share': 1849, 'fulli': 1850, 'februari': 1851, 'finger': 1852, 'cross': 1853, 'elsewher': 1854, 'dec': 1855, '6th': 1856, 'expans': 1857, 'kiosk': 1858, 'instant': 1859, 'parlor': 1860, 'sofa': 1861, 'wave': 1862, 'lamp': 1863, 'shade': 1864, 'metal': 1865, 'color': 1866, 'web': 1867, 'lg': 1868, 'footbal': 1869, 'nicest': 1870, 'romant': 1871, 'getaway': 1872, 'marri': 1873, 'havent': 1874, 'brief': 1875, 'escap': 1876, 'theme': 1877, 'vibrant': 1878, 'surround': 1879, 'tone': 1880, 'treadmil': 1881, 'hand': 1882, 'downsid': 1883, 'american': 1884, 'werent': 1885, 'champagn': 1886, 'chocol': 1887, 'warmer': 1888, 'wouldnt': 1889, '4pm': 1890, 'steal': 1891, 'nonetheless': 1892, 'signatur': 1893, 'nightlif': 1894, 'team': 1895, 'determin': 1896, 'overhaul': 1897, 'messag': 1898, 'hamburg': 1899, 'tap': 1900, 'shoulder': 1901, 'written': 1902, 'nightmar': 1903, '90': 1904, 'descript': 1905, 'reli': 1906, 'fresh': 1907, 'understood': 1908, 'damag': 1909, 'began': 1910, 'ladi': 1911, 'stolen': 1912, 'imposs': 1913, 'content': 1914, 'verifi': 1915, 'entri': 1916, 'faucet': 1917, 'rug': 1918, 'listen': 1919, 'whatsoev': 1920, 'difficulti': 1921, 'bug': 1922, 'that': 1923, 'compliment': 1924, 'desert': 1925, 'critic': 1926, '7pm': 1927, 'yellow': 1928, 'wont': 1929, 'rooftop': 1930, 'condit': 1931, 'occasion': 1932, 'airplan': 1933, 'matter': 1934, 'dispens': 1935, 'stick': 1936, 'contain': 1937, 'condition': 1938, 'feet': 1939, 'deep': 1940, 'confirm': 1941, 'hi': 1942, 'def': 1943, 'oct': 1944, 'spotlessli': 1945, '16th': 1946, 'offic': 1947, 'clock': 1948, 'tray': 1949, 'mid': 1950, 'disappear': 1951, 'opportun': 1952, '27': 1953, 'prime': 1954, 'reflect': 1955, 'hail': 1956, 'stood': 1957, 'candi': 1958, 'hint': 1959, 'owner': 1960, 'grant': 1961, 'funni': 1962, 'flower': 1963, '85': 1964, 'young': 1965, 'ammen': 1966, 'cosi': 1967, 'escal': 1968, 'spill': 1969, '29': 1970, 'rear': 1971, 'enclos': 1972, 'surprisingli': 1973, 'chinatown': 1974, 'theatr': 1975, 'appet': 1976, 'trick': 1977, 'cent': 1978, 'today': 1979, 'pop': 1980, 'reput': 1981, 'onsit': 1982, 'result': 1983, 'awaken': 1984, 'promot': 1985, 'capac': 1986, 'function': 1987, 'vicin': 1988, 'slightli': 1989, '250': 1990, 'nite': 1991, 'sq': 1992, 'ft': 1993, '06': 1994, 'congest': 1995, 'moment': 1996, 'import': 1997, 'crew': 1998, 'porter': 1999, 'heartbeat': 2000, 'doubt': 2001, 'multi': 2002, 'tough': 2003, 'crib': 2004, 'freez': 2005, 'struggl': 2006, 'frankli': 2007, 'move': 2008, 'cnn': 2009, 'bloodi': 2010, 'gripe': 2011, 'hip': 2012, 'showreview': 2013, 'nicht': 2014, 'tr猫': 2015, 'le': 2016, 'wieder': 2017, 'bon': 2018, 'buon': 2019, 'buona': 2020, 'posizion': 2021, 'dan': 2022, 'vue': 2023, 'une': 2024, 'chambr': 2025, 'au': 2026, 'advanc': 2027, 'struck': 2028, 'older': 2029, 'resort': 2030, 'lincoln': 2031, 'effort': 2032, 'diamond': 2033, 'stori': 2034, 'san': 2035, 'grand': 2036, 'partner': 2037, 'chri': 2038, 'exchang': 2039, 'support': 2040, 'organis': 2041, 'law': 2042, 'x': 2043, 'wors': 2044, 'dream': 2045, 'spread': 2046, 'sink': 2047, 'microwav': 2048, 'continent': 2049, 'array': 2050, 'bread': 2051, 'cereal': 2052, 'port': 2053, 'fellow': 2054, 'mine': 2055, 'afraid': 2056, 'airlin': 2057, 'dial': 2058, 'strong': 2059, 'mildew': 2060, 'wake': 2061, 'kick': 2062, 'heavi': 2063, 'oatmeal': 2064, 'clear': 2065, 'motel': 2066, 'info': 2067, '150': 2068, 'section': 2069, 'borrow': 2070, 'silverwar': 2071, 'fridg': 2072, 'broke': 2073, 'cabl': 2074, 'lame': 2075, 'cafe': 2076, 'dim': 2077, 'yesterday': 2078, 'creat': 2079, 'evid': 2080, '11pm': 2081, 'assign': 2082, 'receipt': 2083, 'fashion': 2084, 'muffin': 2085, 'setup': 2086, 'held': 2087, 'tradit': 2088, 'press': 2089, 'trendi': 2090, 'bump': 2091, 'unit': 2092, 'drown': 2093, 'decemb': 2094, '07': 2095, 'beat': 2096, 'swivel': 2097, 'expedia': 2098, 'weight': 2099, 'residenti': 2100, 'west': 2101, 'ave': 2102, 'caveat': 2103, 'exagger': 2104, 'technolog': 2105, 'claim': 2106, 'galleri': 2107, 'pre': 2108, 'waffl': 2109, 'honestli': 2110, 'smoker': 2111, 'pig': 2112, 'nov': 2113, 'equal': 2114, 'freeway': 2115, 'garbag': 2116, 'cigarett': 2117, 'unhelp': 2118, 'resolv': 2119, 'coin': 2120, 'marriott': 2121, 'mi': 2122, 'hilton': 2123, 'gross': 2124, 'packag': 2125, 'ga': 2126, 'nowher': 2127, '1st': 2128, 'reward': 2129, 'remodel': 2130, 'lodg': 2131, 'clue': 2132, 'scrambl': 2133, 'irrit': 2134, 'fairfield': 2135, 'courtyard': 2136, 'armchair': 2137, 'laptop': 2138, 'jacuzzi': 2139, 'cardio': 2140, 'bike': 2141, 'ellipt': 2142, 'beam': 2143, 'terrif': 2144, 'tricki': 2145, 'stove': 2146, 'seatac': 2147, 'ancient': 2148, 'interior': 2149, 'pc': 2150, 'abil': 2151, 'smallest': 2152, 'extend': 2153, 'subsequ': 2154, 'tower': 2155, 'mt': 2156, 'regardless': 2157, 'roof': 2158, 'ventil': 2159, 'associ': 2160, 'cabinet': 2161, 'greatest': 2162, 'storag': 2163, 'loudli': 2164, 'random': 2165, 'spoken': 2166, 'ethernet': 2167, 'denni': 2168, 'norm': 2169, 'fell': 2170, 'popular': 2171, 'alaska': 2172, 'royal': 2173, 'caribbean': 2174, 'pacif': 2175, 'appropri': 2176, 'hill': 2177, 'arrang': 2178, 'premium': 2179, 'advisor': 2180, 'wing': 2181, 'leak': 2182, 'modest': 2183, 'collect': 2184, 'supris': 2185, 'definatli': 2186, 'aaa': 2187, 'form': 2188, 'error': 2189, 'quicker': 2190, 'duvet': 2191, 'frame': 2192, 'outdat': 2193, 'l': 2194, 'salmon': 2195, 'rank': 2196, 'christma': 2197, 'uninvit': 2198, 'hook': 2199, 'fussi': 2200, 'women': 2201, 'mother': 2202, 'bulb': 2203, 'stumbl': 2204, 'shave': 2205, 'leg': 2206, 'firm': 2207, 'ritz': 2208, 'carlton': 2209, 'printer': 2210, 'amazingli': 2211, 'soon': 2212, 'affect': 2213, 'hide': 2214, 'awhil': 2215, 'outdoor': 2216, 'tropic': 2217, 'vip': 2218, 'polic': 2219, 'disney': 2220, 'plant': 2221, '2006': 2222, 'ship': 2223, 'vaniti': 2224, 'western': 2225, 'nevertheless': 2226, 'quaint': 2227, 'layout': 2228, 'westfield': 2229, 'mall': 2230, 'bird': 2231, '2005': 2232, 'load': 2233, 'attempt': 2234, 'repair': 2235, 'forc': 2236, 'ottima': 2237, 'nicolaa': 2238, 'witsen': 2239, 'europ': 2240, 'everybodi': 2241, 'amsterdam': 2242, 'septemb': 2243, 'row': 2244, 'privaci': 2245, 'apart': 2246, 'stupid': 2247, 'drunk': 2248, 'bell': 2249, 'arab': 2250, 'confid': 2251, 'dam': 2252, 'tram': 2253, 'heineken': 2254, 'tripl': 2255, 'oj': 2256, 'jam': 2257, 'til': 2258, 'irish': 2259, 'alright': 2260, 'bourbon': 2261, 'languag': 2262, 'clog': 2263, 'ferri': 2264, 'excurs': 2265, 'canal': 2266, 'helpful': 2267, 'recomend': 2268, 'basement': 2269, 'damp': 2270, 'rembrandt': 2271, 'meat': 2272, 'metr': 2273, 'piano': 2274, 'sing': 2275, 'dutch': 2276, 'van': 2277, 'extraordinari': 2278, 'brown': 2279, 'appl': 2280, 'plein': 2281, 'variou': 2282, 'ham': 2283, 'recom': 2284, 'euro': 2285, 'shall': 2286, 'tidi': 2287, 'peac': 2288, 'oblig': 2289, 'reliabl': 2290, 'hassl': 2291, 'fran': 2292, 'senior': 2293, 'mr': 2294, 'intent': 2295, 'cycl': 2296, 'circl': 2297, 'gogh': 2298, 'rembrandtsplein': 2299, 'drag': 2300, 'cupboard': 2301, 'dont': 2302, 'frill': 2303, '9am': 2304, '2pm': 2305, 'fifteen': 2306, 'netherland': 2307, 'camera': 2308, 'countri': 2309, 'paint': 2310, 'garden': 2311, 'vast': 2312, 'excess': 2313, 'utterli': 2314, 'slice': 2315, 'surli': 2316, 'friendlier': 2317, 'unfriendli': 2318, 'disabl': 2319, 'season': 2320, 'intend': 2321, 'indic': 2322, 'deserv': 2323, 'fourth': 2324, '2004': 2325, 'casino': 2326, 'fiance': 2327, 'intrus': 2328, 'keen': 2329, 'stair': 2330, 'gigant': 2331, 'se': 2332, '2003': 2333, 'all': 2334, 'molto': 2335, 'lo': 2336, '猫': 2337, 'albergo': 2338, 'zona': 2339, 'un': 2340, 'h么tel': 2341, 'bien': 2342, 'situ茅': 2343, 'peu': 2344, 'en': 2345, 'ho': 2346, 'el': 2347, 'tre': 2348, '脿': 2349, 'il': 2350, 'ottimo': 2351, 'accueil': 2352, 'et': 2353, 'personnel': 2354, 'muy': 2355, 'chi': 2356, 'villa': 2357, 'fontain': 2358, 'shiodom': 2359, 'foreign': 2360, 'fish': 2361, 'ginza': 2362, 'conrad': 2363, 'laundri': 2364, 'vend': 2365, 'bbc': 2366, 'japan': 2367, 'shift': 2368, 'tokyo': 2369, 'jr': 2370, 'stroller': 2371, 'venu': 2372, 'english': 2373, 'unabl': 2374, 'japanes': 2375, 'horror': 2376, 'sausag': 2377, 'payment': 2378, 'shimbashi': 2379, 'destin': 2380, 'largest': 2381, 'lake': 2382, 'antiqu': 2383, 'known': 2384, 'highlight': 2385, 'narita': 2386, 'suitcas': 2387, 'london': 2388, '180': 2389, 'rain': 2390, 'wet': 2391, '120': 2392, 'eleg': 2393, 'laid': 2394, 'loop': 2395, 'everth': 2396, 'awak': 2397, 'umbrella': 2398, 'bonu': 2399, 'appal': 2400, 'camp': 2401, 'loos': 2402, 'croissant': 2403, '000': 2404, 'yen': 2405, 'incl': 2406, '110': 2407, 'usd': 2408, 'purpos': 2409, 'lazi': 2410, 'plaza': 2411, 'massiv': 2412, 'haul': 2413, 'soul': 2414, 'complex': 2415, 'button': 2416, 'guid': 2417, '7am': 2418, '10am': 2419, 'studi': 2420, 'intimid': 2421, 'cot': 2422, 'upmarket': 2423, 'applianc': 2424, 'beyond': 2425, 'inclus': 2426, 'occupi': 2427, 'skyscrap': 2428, 'boot': 2429, 'rise': 2430, 'franc': 2431, 'excelsior': 2432, 'nathan': 2433, 'everyday': 2434, 'backpack': 2435, 'wardrob': 2436, 'eastern': 2437, 'tube': 2438, 'aim': 2439, 'definet': 2440, 'flexibl': 2441, 'impecc': 2442, 'asleep': 2443, 'european': 2444, 'involv': 2445, 'dissappoint': 2446, 'thru': 2447, 'favourit': 2448, 'x201d': 2449, 'rapport': 2450, 'qualit茅': 2451, 'prix': 2452, 'est': 2453, 'imperi': 2454, 'asia': 2455, 'majest': 2456, 'cemetari': 2457, 'colleagu': 2458, 'sensit': 2459, 'jet': 2460, 'hairdryer': 2461, 'sensor': 2462, 'curtain': 2463, '6am': 2464, 'spare': 2465, 'fluent': 2466, 'warmli': 2467, 'hospit': 2468, 'peninsula': 2469, 'rule': 2470, 'decad': 2471, '31st': 2472, 'wear': 2473, 'tear': 2474, 'promptli': 2475, 'model': 2476, 'stellar': 2477, 'maintain': 2478, 'thailand': 2479, 'among': 2480, 'pad': 2481, 'moistur': 2482, 'repeat': 2483, 'overwhelm': 2484, 'cleaner': 2485, '21st': 2486, 'cuisin': 2487, 'instantli': 2488, '17th': 2489, 'cd': 2490, 'player': 2491, 'palac': 2492, 'histori': 2493, 'tuck': 2494, 'america': 2495, 'bakeri': 2496, 'sauna': 2497, 'sir': 2498, 'classic': 2499, 'necessarili': 2500, 'observ': 2501, 'royalti': 2502, 'intercontinent': 2503, '28th': 2504, 'doorstep': 2505, 'bench': 2506, 'digit': 2507, 'oasi': 2508, 'frank': 2509, 'schedul': 2510, 'investig': 2511, 'respond': 2512, 'earlier': 2513, 'measur': 2514, 'limo': 2515, 'rout': 2516, 'moreov': 2517, 'led': 2518, 'whenev': 2519, 'splurg': 2520, 'seven': 2521, 'finest': 2522, 'york': 2523, 'obtain': 2524, 'memor': 2525, 'highest': 2526, 'tune': 2527, 'charact': 2528, 'landmark': 2529, 'soni': 2530, 'chines': 2531, 'numer': 2532, 'vari': 2533, 'wander': 2534, 'giant': 2535, 'sky': 2536, 'wheel': 2537, 'accompani': 2538, 'feb': 2539, 'ie': 2540, 'search': 2541, 'deco': 2542, 'match': 2543, 'underneath': 2544, 'uncomfort': 2545, 'platter': 2546, 'coupon': 2547, 'beverag': 2548, 'queue': 2549, 'hello': 2550, 'snoopi': 2551, 'anim': 2552, 'mug': 2553, 'blanket': 2554, 'spoon': 2555, 'reaction': 2556, 'realiti': 2557, 'titl': 2558, '1000': 2559, 'sampl': 2560, 'you鈥檙': 2561, 'favour': 2562, 'gentleman': 2563, 'seek': 2564, 'cramp': 2565, 'f': 2566, 'joint': 2567, 'stuffi': 2568, 'mai': 2569, 'essenti': 2570, 'waka': 2571, 'shorea': 2572, 'dive': 2573, 'nation': 2574, 'black': 2575, 'monkey': 2576, 'mice': 2577, 'box': 2578, 'object': 2579, 'protect': 2580, 'rodent': 2581, 'reduc': 2582, 'bali': 2583, 'bungalow': 2584, 'potenti': 2585, 'stage': 2586, 'snorkel': 2587, 'girlfriend': 2588, 'mountain': 2589, 'forest': 2590, 'mainland': 2591, 'privat': 2592, 'mosquito': 2593, 'net': 2594, 'dusti': 2595, 'therefor': 2596, 'posh': 2597, 'constant': 2598, 'electr': 2599, 'flow': 2600, 'plumb': 2601, 'toll': 2602, 'fountain': 2603, 'oddli': 2604, 'contrast': 2605, 'ampl': 2606, 'glimps': 2607, 'escort': 2608, 'hole': 2609, 'wild': 2610, 'enthusiast': 2611, 'alcohol': 2612, 'sun': 2613, 'lounger': 2614, 'river': 2615, 'fort': 2616, 'nanni': 2617, 'brother': 2618, 'toddler': 2619, 'turndown': 2620, 'meter': 2621, 'ocean': 2622, 'na': 2623, 'insect': 2624, 'coast': 2625, 'brilliant': 2626, 'scari': 2627, 'practic': 2628, 'address': 2629, 'lover': 2630, 'grey': 2631, 'solo': 2632, 'pa': 2633, 'pregnant': 2634, 'lol': 2635, 'era': 2636, 'minimalist': 2637, '1am': 2638, 'chat': 2639, 'push': 2640, 'ambassad': 2641, 'pure': 2642, 'herengracht': 2643, 'singel': 2644, 'shabbi': 2645, 'claustrophob': 2646, 'sidewalk': 2647, 'ann': 2648, 'inde': 2649, 'pari': 2650, 'junior': 2651, 'balconi': 2652, 'pulitz': 2653, 'kudo': 2654, 'graciou': 2655, 'quirki': 2656, 'refurbish': 2657, 'ensur': 2658, 'spiral': 2659, 'staircas': 2660, 'produc': 2661, 'candl': 2662, 'gut': 2663, 'structur': 2664, 'facad': 2665, 'centuri': 2666, 'librari': 2667, 'latter': 2668, 'favor': 2669, 'brisk': 2670, 'pedestrian': 2671, 'similarli': 2672, 'convert': 2673, 'picturesqu': 2674, 'flask': 2675, 'disast': 2676, 'narrow': 2677, 'boutiqu': 2678, 'amongst': 2679, 'heck': 2680, 'din': 2681, 'twin': 2682, 'rose': 2683, 'persist': 2684, 'pub': 2685, 'east': 2686, 'authent': 2687, 'shown': 2688, 'mechan': 2689, 'drape': 2690, 'twist': 2691, 'mobil': 2692, 'nt': 2693, 'bellhop': 2694, 'lux': 2695, 'passport': 2696, 'suffer': 2697, 'remaind': 2698, 'cozi': 2699, 'flawless': 2700, 'sept': 2701, 'basin': 2702, 'slight': 2703, 'cloth': 2704, 'suitabl': 2705, 'magic': 2706, 'soak': 2707, 'paperwork': 2708, 'ballroom': 2709, 'danc': 2710, 'squeez': 2711, 'nightstand': 2712, 'asset': 2713, 'conceirg': 2714, 'grace': 2715, 'knowledg': 2716, 'gestur': 2717, 'curv': 2718, 'establish': 2719, 'chosen': 2720, 'concert': 2721, 'inclin': 2722, 'perform': 2723, 'builder': 2724, 'british': 2725, 'smelt': 2726, 'scaffold': 2727, 'quieter': 2728, 'seri': 2729, 'lay': 2730, 'meant': 2731, 'distant': 2732, 'circular': 2733, '47': 2734, 'bedspread': 2735, 'draw': 2736, 'negoti': 2737, 'stairwel': 2738, 'disgrac': 2739, 'boast': 2740, 'fraction': 2741, 'venic': 2742, 'retir': 2743, 'astound': 2744, 'bellboy': 2745, '3am': 2746, 'superbl': 2747, 'invest': 2748, 'yoghurt': 2749, 'usa': 2750, 'uk': 2751, 'interact': 2752, 'gem': 2753, 'aircondit': 2754, 'dull': 2755, 'grade': 2756, 'solut': 2757, 'glaze': 2758, 'casa': 2759, 'di': 2760, 'david': 2761, 'caution': 2762, 'upper': 2763, 'busiest': 2764, 'accomad': 2765, 'whose': 2766, 'utensil': 2767, 'inner': 2768, 'lag': 2769, 'cooki': 2770, 'absolutli': 2771, 'cheer': 2772, 'magnific': 2773, 'happili': 2774, 'prostitut': 2775, 'economi': 2776, 'drug': 2777, 'wari': 2778, 'pocket': 2779, 'heaven': 2780, 'wit': 2781, 'regret': 2782, 'francisco': 2783, 'pleasent': 2784, 'hustl': 2785, 'bustl': 2786, 'alloc': 2787, 'refer': 2788, 'obnoxi': 2789, 'strike': 2790, 'overflow': 2791, 'upset': 2792, 'seriou': 2793, 'marvel': 2794, 'thrill': 2795, 'florenc': 2796, 'nap': 2797, 'slide': 2798, 'itali': 2799, 'execut': 2800, 'penni': 2801, 'moldi': 2802, 'visibl': 2803, 'mold': 2804, 'stall': 2805, 'length': 2806, 'ta': 2807, 'doctor': 2808, 'alongsid': 2809, '鈧': 2810, '0': 2811, 'toileteri': 2812, 'wonderful': 2813, '5min': 2814, 'nearli': 2815, 'tasteless': 2816, 'duomo': 2817, 'accord': 2818, 'butt': 2819, 'terrac': 2820, 'echo': 2821, 'remark': 2822, 'buen': 2823, 'situato': 2824, 'zentral': 2825, 'aber': 2826, 'dell': 2827, 'barcelona': 2828, 'mysteri': 2829, 'engin': 2830, '8pm': 2831, 'lone': 2832, 'suburb': 2833, 'hesperia': 2834, 'sant': 2835, 'rambla': 2836, 'catalunya': 2837, 'diagon': 2838, 'familiar': 2839, 'barca': 2840, 'sad': 2841, 'tho': 2842, 'spanish': 2843, 'squash': 2844, 'court': 2845, 'cant': 2846, 'co': 2847, 'weekday': 2848, '2am': 2849, 'feedback': 2850, 'palau': 2851, 'deck': 2852, 'fifth': 2853, 'apologis': 2854, 'realis': 2855, 'del': 2856, 'maria': 2857, 'k': 2858, 'pickup': 2859, 'r': 2860, 'zone': 2861, 'turist': 2862, 'bear': 2863, 'rambl': 2864, 'util': 2865, 'distract': 2866, 't10': 2867, 'terminu': 2868, 'forgotten': 2869, 'display': 2870, '30pm': 2871, 'settl': 2872, 'affili': 2873, 'southern': 2874, 'jazz': 2875, 'valuabl': 2876, 'fab': 2877, 'du': 2878, 'vill': 2879, 'souvenir': 2880, 'gern': 2881, 'po': 2882, 'verament': 2883, 'etwa': 2884, 'der': 2885, 'mit': 2886, 'sch枚ne': 2887, 'd茅莽u': 2888, 'bonn': 2889, 'una': 2890, 'sehr': 2891, 'gute': 2892, 'j': 2893, 'zu': 2894, 'cher': 2895, 'lage': 2896, 'struttura': 2897, 'nou': 2898, 'que': 2899, 'nel': 2900, 'dal': 2901, 'centro': 2902, 'ben': 2903, 'im': 2904, 'perfekt': 2905, 'prei': 2906, 'leistung': 2907, 'auto': 2908, 'sympa': 2909, 'agr茅abl': 2910, 'blown': 2911, 'catalonia': 2912, 'cleanest': 2913, 'award': 2914, 'endur': 2915, 'bizarr': 2916, 'region': 2917, 'i鈥檝': 2918, 'rich': 2919, 'aircon': 2920, 'spain': 2921, 'thanksgiv': 2922, 'dust': 2923, 'assort': 2924, 'polici': 2925, '30th': 2926, 'neighbour': 2927, 'hungri': 2928, 'incompet': 2929, 'repli': 2930, 'offens': 2931, 'exterior': 2932, 'intim': 2933, 'gather': 2934, 'surf': 2935, 'log': 2936, 'latest': 2937, 'placa': 2938, 'clientel': 2939, '9pm': 2940, 'caught': 2941, 'slot': 2942, 'junction': 2943, 'pace': 2944, 'substanti': 2945, 'dealt': 2946, 'conclus': 2947, '04': 2948, 'excelent': 2949, 'premier': 2950, 's茅jour': 2951, 'bet': 2952, 'canada': 2953, 'toronto': 2954, 'cn': 2955, 'studio': 2956, 'niagara': 2957, 'roger': 2958, 'rubbish': 2959, 'eaton': 2960, 'chilli': 2961, 'andrew': 2962, 'kit': 2963, 'popcorn': 2964, 'mum': 2965, 'stale': 2966, 'dishwash': 2967, 'funki': 2968, 'unpack': 2969, 'allergi': 2970, 'benadryl': 2971, 'streetcar': 2972, 'zoo': 2973, 'strawberri': 2974, 'homeless': 2975, 'harmless': 2976, 'hash': 2977, 'cutleri': 2978, 'jay': 2979, 'height': 2980, 'harbourfront': 2981, 'briefli': 2982, 'bin': 2983, '29th': 2984, 'student': 2985, 'argument': 2986, 'inspir': 2987, 'tad': 2988, 'beforehand': 2989, 'lumpi': 2990, 'gladli': 2991, 'kitchenett': 2992, 'act': 2993, 'uneven': 2994, 'solv': 2995, 'thursday': 2996, '22nd': 2997, 'smallish': 2998, 'younger': 2999, 'soho': 3000, 'condo': 3001, 'mexican': 3002, 'windsor': 3003, 'max': 3004, 'univers': 3005, 'quibbl': 3006, 'porridg': 3007, 'undergo': 3008, 'theater': 3009, '20th': 3010, 'vancouv': 3011, 'headach': 3012, 'lowest': 3013, 'argu': 3014, 'restaraunt': 3015, 'arena': 3016, 'friendliest': 3017, 'indian': 3018, 'dog': 3019, 'anytim': 3020, '12th': 3021, 'pan': 3022, 'veggi': 3023, 'musti': 3024, 'banana': 3025, 'joke': 3026, 'coach': 3027, 'union': 3028, 'unload': 3029, 'lane': 3030, 'alley': 3031, 'surfac': 3032, 'code': 3033, 'oyster': 3034, 'ruin': 3035, 'flew': 3036, 'gray': 3037, 'belgian': 3038, 'neighbourhood': 3039, 'up': 3040, '8am': 3041, 'genuin': 3042, 'toaster': 3043, 'siren': 3044, 'feather': 3045, 'desper': 3046, 'chip': 3047, 'film': 3048, 'festiv': 3049, 'dryer': 3050, 'whirlpool': 3051, 'bang': 3052, '28': 3053, 'fo': 3054, 'sadli': 3055, 'cloud': 3056, 'scare': 3057, 'safeti': 3058, 'sooth': 3059, 'ach': 3060, '140': 3061, 'dirt': 3062, '23rd': 3063, 'humid': 3064, '69': 3065, 'hor': 3066, 'oeuvr': 3067, 'tuesday': 3068, 'shock': 3069, '00am': 3070, 'nightli': 3071, 'arm': 3072, '19th': 3073, 'packet': 3074, '25th': 3075, 'john': 3076, 'ca': 3077, 'winner': 3078, 'und': 3079, 'modernis': 3080, 'couldnt': 3081, 'hostel': 3082, 'manofa': 3083, 'matress': 3084, 'stag': 3085, 'awoken': 3086, 'al': 3087, 'damrak': 3088, 'rat': 3089, 'dump': 3090, 'lad': 3091, 'wallpap': 3092, 'stare': 3093, 'there': 3094, 'storm': 3095, 'kettl': 3096, 'compact': 3097, 'drain': 3098, 'dingi': 3099, 'u': 3100, 'mous': 3101, 'smelli': 3102, 'judg': 3103, 'pic': 3104, 'tape': 3105, '24th': 3106, 'patron': 3107, 'reccommend': 3108, 'ignor': 3109, 'dr': 3110, 'dodgi': 3111, 'yuck': 3112, 'dread': 3113, 'noisey': 3114, 'toy': 3115, 'centraal': 3116, 'jewel': 3117, 'crown': 3118, 'wherea': 3119, 'roach': 3120, 'kill': 3121, 'convinc': 3122, 'male': 3123, 'colour': 3124, 'mould': 3125, 'pair': 3126, 'accross': 3127, 'laugh': 3128, 'infest': 3129, 'exhaust': 3130, 'rid': 3131, 'allerg': 3132, 'jan': 3133, 'skin': 3134, 'bleach': 3135, 'disagre': 3136, 'hey': 3137, 'flea': 3138, 'visa': 3139, 'prison': 3140, '05': 3141, 'attic': 3142, 'band': 3143, 'risk': 3144, 'suspect': 3145, 'itch': 3146, 'jolli': 3147, 'damn': 3148, 'shadi': 3149, 'fight': 3150, 'beverli': 3151, 'captain': 3152, 'panoram': 3153, 'zimmer': 3154, 'plac茅': 3155, 'da': 3156, 'empfehlenswert': 3157, 'f眉r': 3158, 'bugi': 3159, 'singapor': 3160, 'asian': 3161, 'golden': 3162, 'india': 3163, 'mrt': 3164, 'suddenli': 3165, '19': 3166, 'hunt': 3167, 'companion': 3168, 'mosqu': 3169, 'fabric': 3170, 'glori': 3171, 'aud': 3172, 'orchard': 3173, 'spray': 3174, 'filthi': 3175, 'occup': 3176, 'applic': 3177, 'poolsid': 3178, 'race': 3179, 'hong': 3180, 'kong': 3181, 'singer': 3182, 'contest': 3183, 'compens': 3184, 'angri': 3185, 'rd': 3186, 'pp': 3187, 'raffl': 3188, 'subject': 3189, 'mtr': 3190, 'unaccept': 3191, 'stopov': 3192, 'wee': 3193, 'victoria': 3194, 'sim': 3195, 'lastminut': 3196, '3pm': 3197, 'tobacco': 3198, 'wrap': 3199, 'cheat': 3200, 'plush': 3201, 'renew': 3202, 'heavili': 3203, 'um': 3204, 'electron': 3205, 'belong': 3206, 'fascin': 3207, '15min': 3208, 'doorbel': 3209, 'definetli': 3210, 'sleepless': 3211, 'australia': 3212, 'offici': 3213, 'bean': 3214, 'pharmaci': 3215, 'exec': 3216, 'melbourn': 3217, 'shopper': 3218, 'coz': 3219, 'kinda': 3220, 'crockeri': 3221, 'mouldi': 3222, 'reek': 3223, 'urin': 3224, 'stink': 3225, 'civic': 3226, 'patienc': 3227, 'gelegen': 3228, 'emplac': 3229, 'miami': 3230, 'washer': 3231, 'florida': 3232, 'palm': 3233, '350': 3234, 'd茅cor': 3235, 'patio': 3236, 'freshen': 3237, 'restroom': 3238, 'cousin': 3239, 'retreat': 3240, 'walgreen': 3241, 'bucket': 3242, 'leather': 3243, 'embassi': 3244, 'restrict': 3245, 'church': 3246, '9th': 3247, 'unwelcom': 3248, 'former': 3249, 'nh': 3250, 'ill': 3251, 'cooler': 3252, 'flood': 3253, 'rembrantplein': 3254, 'elect': 3255, 'krasnapolski': 3256, 'rembrandtplein': 3257, 'cheeri': 3258, 'rai': 3259, 'henc': 3260, 'disco': 3261, 'th': 3262, 'fade': 3263, 'unbeat': 3264, 'caf茅': 3265, 'importantli': 3266, 'brick': 3267, 'powder': 3268, 'gay': 3269, 'peel': 3270, 'crack': 3271, 'ect': 3272, 'tobleron': 3273, 'seedi': 3274, 'beg': 3275, 'contrari': 3276, 'prepaid': 3277, 'caruso': 3278, 'truth': 3279, 'abund': 3280, 'pitt': 3281, 'oversea': 3282, 'thai': 3283, 'reveal': 3284, 'sincer': 3285, 'overs': 3286, 'speaker': 3287, 'indonesian': 3288, 'aggress': 3289, 'nightclub': 3290, 'scald': 3291, 'user': 3292, 'mcdonald': 3293, 'joy': 3294, 'radiu': 3295, 'thermostat': 3296, 'overbook': 3297, 'midst': 3298, 'id': 3299, 'coke': 3300, 'dear': 3301, 'rice': 3302, 'semi': 3303, 'presum': 3304, 'german': 3305, 'mint': 3306, 'eas': 3307, 'veiw': 3308, 'lap': 3309, 'vendor': 3310, 'suffic': 3311, 'surpass': 3312, 'skill': 3313, 'youth': 3314, 'cinema': 3315, 'dad': 3316, 'tacki': 3317, 'ordnung': 3318, 'war': 3319, 'rapporto': 3320, 'prezzo': 3321, 'victorian': 3322, '89': 3323, 'vertigo': 3324, 'hitchcock': 3325, 'heater': 3326, 'orbitz': 3327, 'crawl': 3328, 'sf': 3329, 'fame': 3330, 'retro': 3331, 'academi': 3332, 'sketchi': 3333, 'yell': 3334, '125': 3335, 'defo': 3336, 'powel': 3337, 'bart': 3338, 'vintag': 3339, 'sutter': 3340, 'california': 3341, 'vagrant': 3342, 'muni': 3343, 'empir': 3344, 'nob': 3345, 'upcom': 3346, 'cosmo': 3347, 'poster': 3348, '6ft': 3349, 'maci': 3350, 'showerhead': 3351, 'fisherman': 3352, 'mission': 3353, 'sfo': 3354, 'loui': 3355, 'intersect': 3356, 'hyde': 3357, 'sausalito': 3358, 'imag': 3359, 'washington': 3360, 'reunion': 3361, 'tenderloin': 3362, 'seal': 3363, 'facilit': 3364, 'gain': 3365, 'creek': 3366, 'jack': 3367, 'exceed': 3368, 'hat': 3369, 'buono': 3370, 'den': 3371, 'amrey': 3372, 'wrote': 3373, 'tapa': 3374, 'poblen': 3375, 'sagrada': 3376, 'lidl': 3377, 'familia': 3378, 'gracia': 3379, 'avenu': 3380, 'pobl': 3381, 'flag': 3382, 'torr': 3383, 'agbar': 3384, 'olymp': 3385, 'santa': 3386, 'safer': 3387, 'derelict': 3388, 'passeig': 3389, 'nativ': 3390, 'easyjet': 3391, 'liverpool': 3392, 'noodl': 3393, 'hollywood': 3394, 'scarc': 3395, 'boulevard': 3396, 'gaudi': 3397, 'passeng': 3398, 'madrid': 3399, 'qualit脿': 3400, 'empfehlen': 3401, 'ein': 3402, 'highland': 3403, 'blvd': 3404, 'kodak': 3405, 'hertz': 3406, 'roosevelt': 3407, 'grauman': 3408, 'johnni': 3409, 'angel': 3410, '15th': 3411, 'mel': 3412, 'graumann': 3413, 'procedur': 3414, 'monica': 3415, 'rodeo': 3416, 'lax': 3417, 'phenomen': 3418, 'mann': 3419, 'burbank': 3420, 'sunset': 3421, 'starlin': 3422, 'driveway': 3423, 'warner': 3424, 'daytim': 3425, 'farmer': 3426, 'grove': 3427, 'disneyland': 3428, 'capitan': 3429, 'oscar': 3430, 'cabana': 3431, 'strip': 3432, 'twenti': 3433, 'distinct': 3434, 'fork': 3435, 'berlin': 3436, 'cuban': 3437, 'salsa': 3438, 'mari': 3439, 'vert': 3440, '10pm': 3441, 'can': 3442, 'mexico': 3443, 'blah': 3444, 'weak': 3445, 'vist': 3446, 'lisa': 3447, 'buffett': 3448, 'vega': 3449, 'unimpress': 3450, 'beef': 3451, 'oxford': 3452, 'success': 3453, 'wolfgang': 3454, 'puck': 3455, 'refridger': 3456, 'unobtrus': 3457, 'scruffi': 3458, 'ikea': 3459, 'idol': 3460, 'prop': 3461, 'afterward': 3462, '101': 3463, 'parc55': 3464, 'glamor': 3465, 'autograph': 3466, 'pine': 3467, 'parad': 3468, 'stinki': 3469, 'overcharg': 3470, 'hampton': 3471, 'tai': 3472, 'ny': 3473, 'charl': 3474, 'gourmet': 3475, 'swiss': 3476, 'wan': 3477, 'bum': 3478, 'hooray': 3479, 'lather': 3480, 'out': 3481, 'ankl': 3482, 'miser': 3483, 'shutter': 3484, 'labor': 3485, 'armoir': 3486, 'sham': 3487, 'worthwhil': 3488, 'instruct': 3489, 'tempt': 3490, 'unsaf': 3491, 'speedi': 3492, 'flaw': 3493, 'comp': 3494, 'ryan': 3495, 'seacrest': 3496, 'blackout': 3497, 'leaflet': 3498, 'shine': 3499, 'shoot': 3500, 'suck': 3501, 'unawar': 3502, 'hillari': 3503, 'reliev': 3504, 'parc': 3505, 'win': 3506, 'nordstrom': 3507, 'kindli': 3508, 'accustom': 3509, 'alcatraz': 3510, 'broadband': 3511, 'panhandl': 3512, 'moscon': 3513, 'magnin': 3514, 'lousi': 3515, 'popul': 3516, 'unexpect': 3517, '27th': 3518, 'oakland': 3519, 'regenc': 3520, 'omni': 3521, 'franci': 3522, 'cathedr': 3523, 'ipod': 3524, 'jerri': 3525, '1980': 3526, 'veranda': 3527, 'amtrak': 3528, 'bake': 3529, 'muir': 3530, 'aliv': 3531, 'gambl': 3532, 'foam': 3533, 'mariott': 3534, '38': 3535, 'sixth': 3536, 'opera': 3537, 'octopu': 3538, 'govern': 3539, 'clari': 3540, 'duplex': 3541, 'eixampl': 3542, 'daylight': 3543, 'easter': 3544, 'egyptian': 3545, 'unsatisfi': 3546, 'latin': 3547, 'metropol': 3548, 'ic': 3549, 'verd': 3550, 'sand': 3551, 'juan': 3552, 'hammock': 3553, 'oceanfront': 3554, 'beachfront': 3555, 'isla': 3556, 'picant': 3557, 'pr': 3558, 'sirena': 3559, 'mojito': 3560, 'puerto': 3561, 'rican': 3562, 'arroyo': 3563, 'rico': 3564, 'alfredo': 3565, 'wrought': 3566, 'condado': 3567, 'elizabeth': 3568, 'dvd': 3569, 'ruth': 3570, 'bitten': 3571, '飩': 3572, 'sydney': 3573, 'travelodg': 3574, 'darl': 3575, 'bondi': 3576, 'australian': 3577, 'wentworth': 3578, 'cbd': 3579, 'monorail': 3580, 'dislik': 3581, 'mardi': 3582, 'gra': 3583, 'mood': 3584, 'handbag': 3585, 'teh': 3586, 'caransa': 3587, 'debit': 3588, 'somebodi': 3589, 'kennedi': 3590, 'frankfurt': 3591, 'germani': 3592, 'rocco': 3593, 'causeway': 3594, 'hk': 3595, 'lanson': 3596, 'kowloon': 3597, 'hongkong': 3598, 'hkd': 3599, 'macau': 3600, 'pioneer': 3601, 'puget': 3602, 'pike': 3603, 'safeco': 3604, 'alaskan': 3605, 'elliott': 3606, 'pat': 3607, 'needl': 3608, 'swissotel': 3609, 'orlean': 3610, 'swisshotel': 3611, 'expresso': 3612, 'gracious': 3613, 'forbidden': 3614, 'templ': 3615, 'linda': 3616, 'fenc': 3617, 'duqu': 3618, 'bergara': 3619, 'teacher': 3620, 'galleria': 3621, 'dalla': 3622, 'tsim': 3623, 'sha': 3624, 'tsui': 3625, 'mithila': 3626, 'momo': 3627, 'yau': 3628, 'tei': 3629, 'dorsett': 3630, 'seaview': 3631, 'ronda': 3632, 'hurrican': 3633, 'riverwalk': 3634, 'katrina': 3635, 'bleacher': 3636, 'fest': 3637, 'saint': 3638, 'toulous': 3639, 'mond': 3640, 'valentino': 3641, 'princ': 3642, 'conti': 3643, 'burbon': 3644, 'nola': 3645, 'dauphin': 3646, 'bourban': 3647, 'platz': 3648, 'bahn': 3649, 'mercur': 3650, 'wolli': 3651, 'agon': 3652, 'alexanderplatz': 3653, 'meridiana': 3654, 'emerald': 3655}\n"
     ]
    }
   ],
   "source": [
    "print(data.vocab_dict)"
   ]
  },
  {
   "cell_type": "code",
   "execution_count": 11,
   "metadata": {},
   "outputs": [],
   "source": [
    "lrr = LRR.LRR(7, 3656, data)"
   ]
  },
  {
   "cell_type": "code",
   "execution_count": 12,
   "metadata": {},
   "outputs": [
    {
     "name": "stdout",
     "output_type": "stream",
     "text": [
      "CPU times: user 1.2 s, sys: 99.6 ms, total: 1.3 s\n",
      "Wall time: 1.3 s\n"
     ]
    }
   ],
   "source": [
    "%time W = lrr.calculateW()"
   ]
  },
  {
   "cell_type": "code",
   "execution_count": 13,
   "metadata": {},
   "outputs": [
    {
     "data": {
      "text/plain": [
       "array([[1., 1., 4., ..., 0., 0., 0.],\n",
       "       [0., 0., 2., ..., 0., 0., 0.],\n",
       "       [0., 0., 1., ..., 0., 0., 0.],\n",
       "       ...,\n",
       "       [0., 0., 1., ..., 0., 0., 0.],\n",
       "       [1., 1., 1., ..., 0., 0., 0.],\n",
       "       [0., 0., 1., ..., 0., 0., 0.]])"
      ]
     },
     "execution_count": 13,
     "metadata": {},
     "output_type": "execute_result"
    }
   ],
   "source": [
    "W[0]"
   ]
  },
  {
   "cell_type": "code",
   "execution_count": 14,
   "metadata": {},
   "outputs": [
    {
     "data": {
      "text/plain": [
       "array([[0.17833223, 0.16645818, 0.95392187, ..., 0.28508828, 0.40535325,\n",
       "        0.59849487],\n",
       "       [0.70163919, 0.49549732, 0.83629643, ..., 0.85675104, 0.78805532,\n",
       "        0.87813811],\n",
       "       [0.7626169 , 0.74774694, 0.88877885, ..., 0.53534912, 0.42588578,\n",
       "        0.84066302],\n",
       "       ...,\n",
       "       [0.56820758, 0.49105835, 0.15165884, ..., 0.64797376, 0.6098656 ,\n",
       "        0.72838842],\n",
       "       [0.95294298, 0.19034349, 0.79077091, ..., 0.93867515, 0.96858588,\n",
       "        0.73155228],\n",
       "       [0.02393075, 0.40868457, 0.83850501, ..., 0.39986046, 0.13591262,\n",
       "        0.39457   ]])"
      ]
     },
     "execution_count": 14,
     "metadata": {},
     "output_type": "execute_result"
    }
   ],
   "source": [
    "lrr.Beta"
   ]
  },
  {
   "cell_type": "code",
   "execution_count": 15,
   "metadata": {},
   "outputs": [
    {
     "ename": "NameError",
     "evalue": "name 'np' is not defined",
     "output_type": "error",
     "traceback": [
      "\u001b[0;31m---------------------------------------------------------------------------\u001b[0m",
      "\u001b[0;31mNameError\u001b[0m                                 Traceback (most recent call last)",
      "\u001b[0;32m<ipython-input-15-56dd17763f73>\u001b[0m in \u001b[0;36m<module>\u001b[0;34m\u001b[0m\n\u001b[1;32m      1\u001b[0m \u001b[0md\u001b[0m\u001b[0;34m=\u001b[0m\u001b[0;36m0\u001b[0m\u001b[0;34m\u001b[0m\u001b[0;34m\u001b[0m\u001b[0m\n\u001b[1;32m      2\u001b[0m \u001b[0;32mfor\u001b[0m \u001b[0mi\u001b[0m \u001b[0;32min\u001b[0m \u001b[0mrange\u001b[0m\u001b[0;34m(\u001b[0m\u001b[0;36m7\u001b[0m\u001b[0;34m)\u001b[0m\u001b[0;34m:\u001b[0m\u001b[0;34m\u001b[0m\u001b[0;34m\u001b[0m\u001b[0m\n\u001b[0;32m----> 3\u001b[0;31m     \u001b[0mprint\u001b[0m\u001b[0;34m(\u001b[0m\u001b[0;34m\"s%d=\"\u001b[0m \u001b[0;34m%\u001b[0m \u001b[0mi\u001b[0m\u001b[0;34m,\u001b[0m \u001b[0mnp\u001b[0m\u001b[0;34m.\u001b[0m\u001b[0mdot\u001b[0m\u001b[0;34m(\u001b[0m\u001b[0mlrr\u001b[0m\u001b[0;34m.\u001b[0m\u001b[0mBeta\u001b[0m\u001b[0;34m[\u001b[0m\u001b[0mi\u001b[0m\u001b[0;34m]\u001b[0m\u001b[0;34m,\u001b[0m \u001b[0mW\u001b[0m\u001b[0;34m[\u001b[0m\u001b[0md\u001b[0m\u001b[0;34m]\u001b[0m\u001b[0;34m[\u001b[0m\u001b[0mi\u001b[0m\u001b[0;34m]\u001b[0m\u001b[0;34m)\u001b[0m\u001b[0;34m)\u001b[0m\u001b[0;34m\u001b[0m\u001b[0;34m\u001b[0m\u001b[0m\n\u001b[0m",
      "\u001b[0;31mNameError\u001b[0m: name 'np' is not defined"
     ]
    }
   ],
   "source": [
    "d=0\n",
    "for i in range(7):\n",
    "    print(\"s%d=\" % i, np.dot(lrr.Beta[i], W[d][i]))"
   ]
  },
  {
   "cell_type": "code",
   "execution_count": 16,
   "metadata": {},
   "outputs": [
    {
     "data": {
      "text/plain": [
       "array([0.52763284, 0.96028044, 0.42684144, 0.17516309, 0.11634243,\n",
       "       0.88562235, 0.3393908 ])"
      ]
     },
     "execution_count": 16,
     "metadata": {},
     "output_type": "execute_result"
    }
   ],
   "source": [
    "lrr.Mu"
   ]
  },
  {
   "cell_type": "code",
   "execution_count": 17,
   "metadata": {},
   "outputs": [
    {
     "data": {
      "text/plain": [
       "(7, 3656)"
      ]
     },
     "execution_count": 17,
     "metadata": {},
     "output_type": "execute_result"
    }
   ],
   "source": [
    "W[0].shape"
   ]
  },
  {
   "cell_type": "code",
   "execution_count": 18,
   "metadata": {},
   "outputs": [
    {
     "data": {
      "text/plain": [
       "array([[ 0.34186588, -1.08209449, -1.7204864 ,  2.09133048, -2.15856499,\n",
       "         2.41880371,  1.58830941],\n",
       "       [ 1.47237396, -0.94712478,  0.15231031, -0.85270708,  0.24321765,\n",
       "         0.44603781, -0.5665486 ],\n",
       "       [-0.25280831,  0.80585691, -0.2256783 ,  0.91267985,  0.43933968,\n",
       "        -1.35080251,  0.49135203],\n",
       "       [-0.58324988, -0.167212  ,  1.19863663,  0.14922917,  0.55628885,\n",
       "        -0.55806545, -0.49597692],\n",
       "       [-0.97676363,  1.59228861,  1.70795192, -1.19545598,  0.78891508,\n",
       "        -1.91328538, -0.35035909],\n",
       "       [-0.76951307, -0.23168571, -0.61191005, -0.376778  ,  0.0527722 ,\n",
       "         0.79187908,  1.20694945],\n",
       "       [ 0.55893945,  0.3353512 , -0.5766575 , -0.11833026,  0.26902545,\n",
       "         0.62878742, -0.9933589 ]])"
      ]
     },
     "execution_count": 18,
     "metadata": {},
     "output_type": "execute_result"
    }
   ],
   "source": [
    "np.linalg.inv(lrr.Omega)"
   ]
  },
  {
   "cell_type": "code",
   "execution_count": 19,
   "metadata": {},
   "outputs": [
    {
     "data": {
      "text/plain": [
       "<function __main__.<lambda>(s)>"
      ]
     },
     "execution_count": 19,
     "metadata": {},
     "output_type": "execute_result"
    }
   ],
   "source": [
    "lambda s: s"
   ]
  },
  {
   "cell_type": "code",
   "execution_count": 20,
   "metadata": {},
   "outputs": [],
   "source": [
    "a = np.zeros(7)"
   ]
  },
  {
   "cell_type": "code",
   "execution_count": 21,
   "metadata": {},
   "outputs": [
    {
     "data": {
      "text/plain": [
       "array([0., 0., 0., 0., 0., 0., 0.])"
      ]
     },
     "execution_count": 21,
     "metadata": {},
     "output_type": "execute_result"
    }
   ],
   "source": [
    "a"
   ]
  },
  {
   "cell_type": "code",
   "execution_count": 22,
   "metadata": {},
   "outputs": [],
   "source": [
    "a += 1/7"
   ]
  },
  {
   "cell_type": "code",
   "execution_count": 23,
   "metadata": {},
   "outputs": [
    {
     "data": {
      "text/plain": [
       "array([0.14285714, 0.14285714, 0.14285714, 0.14285714, 0.14285714,\n",
       "       0.14285714, 0.14285714])"
      ]
     },
     "execution_count": 23,
     "metadata": {},
     "output_type": "execute_result"
    }
   ],
   "source": [
    "a"
   ]
  },
  {
   "cell_type": "code",
   "execution_count": null,
   "metadata": {},
   "outputs": [],
   "source": []
  }
 ],
 "metadata": {
  "kernelspec": {
   "display_name": "Python 3",
   "language": "python",
   "name": "python3"
  },
  "language_info": {
   "codemirror_mode": {
    "name": "ipython",
    "version": 3
   },
   "file_extension": ".py",
   "mimetype": "text/x-python",
   "name": "python",
   "nbconvert_exporter": "python",
   "pygments_lexer": "ipython3",
   "version": "3.8.3"
  }
 },
 "nbformat": 4,
 "nbformat_minor": 4
}
